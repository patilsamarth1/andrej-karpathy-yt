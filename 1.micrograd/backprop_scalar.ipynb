{
 "cells": [
  {
   "cell_type": "markdown",
   "metadata": {
    "vscode": {
     "languageId": "plaintext"
    }
   },
   "source": [
    "https://youtu.be/VMj-3S1tku0?si=lAQv1ysckiOJMbpN\n",
    "\n",
    "backpropagation, although popular in neural networks, is not specific to nn. it is significantly more general, and can be applied to more arbitrary expressions.\\\n",
    "we're going to be working with scalars, but mathematically this is exactly same with tensors. we're only doing this for efficiency and simplicity.\\\n",
    "at the most fundamental level, we're going to need ~200 lines of simple python code to implement neural networks and train them using back-propagation. everything else that comes with added complexity is mainly for efficiency. "
   ]
  },
  {
   "cell_type": "code",
   "execution_count": 49,
   "metadata": {},
   "outputs": [],
   "source": [
    "import math\n",
    "import numpy as np\n",
    "import matplotlib.pyplot as plt\n",
    "%matplotlib inline"
   ]
  },
  {
   "cell_type": "code",
   "execution_count": 50,
   "metadata": {},
   "outputs": [],
   "source": [
    "def f(x):\n",
    "    return 3*x**2 - 4*x + 5"
   ]
  },
  {
   "cell_type": "code",
   "execution_count": 51,
   "metadata": {},
   "outputs": [
    {
     "data": {
      "text/plain": [
       "60"
      ]
     },
     "execution_count": 51,
     "metadata": {},
     "output_type": "execute_result"
    }
   ],
   "source": [
    "f(5)"
   ]
  },
  {
   "cell_type": "code",
   "execution_count": 52,
   "metadata": {},
   "outputs": [
    {
     "data": {
      "text/plain": [
       "[<matplotlib.lines.Line2D at 0x12296c910>]"
      ]
     },
     "execution_count": 52,
     "metadata": {},
     "output_type": "execute_result"
    },
    {
     "data": {
      "image/png": "[encoded data removed]",
      "text/plain": [
       "<Figure size 640x480 with 1 Axes>"
      ]
     },
     "metadata": {},
     "output_type": "display_data"
    }
   ],
   "source": [
    "x = np.arange(-5,5, 0.25)\n",
    "y = f(x)\n",
    "plt.plot(x,y)"
   ]
  },
  {
   "cell_type": "code",
   "execution_count": 53,
   "metadata": {},
   "outputs": [
    {
     "data": {
      "text/plain": [
       "14.000003002223593"
      ]
     },
     "execution_count": 53,
     "metadata": {},
     "output_type": "execute_result"
    }
   ],
   "source": [
    "h = 10**-6\n",
    "x = 3\n",
    "(f(x+h)-f(x))/h"
   ]
  },
  {
   "cell_type": "code",
   "execution_count": 54,
   "metadata": {},
   "outputs": [
    {
     "name": "stdout",
     "output_type": "stream",
     "text": [
      "4\n"
     ]
    }
   ],
   "source": [
    "# complicating this further\n",
    "a = 2\n",
    "b = -3\n",
    "c = 10\n",
    "d = a*b + c\n",
    "print(d)"
   ]
  },
  {
   "cell_type": "code",
   "execution_count": 55,
   "metadata": {},
   "outputs": [
    {
     "name": "stdout",
     "output_type": "stream",
     "text": [
      "4 3.9999969999999996 -3.000000000419334\n"
     ]
    }
   ],
   "source": [
    "# inputs \n",
    "a = 2\n",
    "b = -3\n",
    "c = 10\n",
    "d1 = a*b + c\n",
    "# d(d)/d(a)\n",
    "a+=h\n",
    "d2 = a*b + c\n",
    "\n",
    "print(d1,d2, (d2-d1)/h)\n"
   ]
  },
  {
   "cell_type": "code",
   "execution_count": 140,
   "metadata": {},
   "outputs": [],
   "source": [
    "class Value: \n",
    "    def __init__(self, data, _children=(), _op='', label = ''):\n",
    "        self.data = data\n",
    "        self.grad = 0.0\n",
    "        self._backward = lambda: None\n",
    "        # why set? do we lose any info here?\n",
    "        self._prev = set(_children)\n",
    "        self._op = _op\n",
    "        self.label = label\n",
    "        self.grad = 0\n",
    "    def __repr__(self):\n",
    "        return f\"Value(data={self.data})\"\n",
    "    \n",
    "    def __add__(self,other):\n",
    "        other = other if isinstance(other, Value) else Value(other)\n",
    "        out = Value(self.data + other.data, (self,other), '+')\n",
    "\n",
    "        def _backward():\n",
    "            # IMP - we do += here because we want to accumulate the gradients for a give Value, \n",
    "            # for ex. c=a+b and d=c+a i.e. d=(a+b)+a. in this case, the effect of change in Value a should be double on the output\n",
    "            self.grad += 1.0 * out.grad\n",
    "            other.grad += 1.0 * out.grad\n",
    "        out._backward = _backward\n",
    "\n",
    "        return out\n",
    "    \n",
    "    def __neg__(self):\n",
    "        return -1 * self\n",
    "\n",
    "    def __sub__(self, other):\n",
    "        return self + (-other)\n",
    "    \n",
    "    def __mul__(self, other):\n",
    "        other = other if isinstance(other, Value) else Value(other)\n",
    "        out = Value(self.data*other.data, (self,other), '*')\n",
    "        \n",
    "        def _backward():\n",
    "            self.grad += other.data * out.grad\n",
    "            other.grad += self.data * out.grad\n",
    "        out._backward = _backward\n",
    "        return out\n",
    "    \n",
    "    def __rmul__(self, other):\n",
    "        return self*other\n",
    "    \n",
    "    def __pow__(self, other):\n",
    "        # IMP\n",
    "        assert isinstance(other, (int, float)) #otherwise, the derivative will be different\n",
    "        out = Value(self.data**other, (self,), f'**{other}')\n",
    "\n",
    "        def _backward():\n",
    "            self.grad += other * self.data**(other-1) * out.grad\n",
    "        out._backward = _backward\n",
    "        return out\n",
    "\n",
    "    def __truediv__(self, other): # self/other\n",
    "        return self * other ** -1\n",
    "    \n",
    "    def tanh(self):\n",
    "        x = self.data\n",
    "        t = (math.exp(2*x) -1)/(math.exp(2*x)+1)\n",
    "        out = Value(t, (self, ), 'tanh')\n",
    "        def _backward():\n",
    "            self.grad += (1-t**2)*out.grad \n",
    "        out._backward=_backward\n",
    "        return out\n",
    "    \n",
    "    def exp(self):\n",
    "        x=self.data\n",
    "        out = Value(math.exp(x), (self, ), 'exp')\n",
    "\n",
    "        def _backward():\n",
    "            self.grad += out.data * out.grad\n",
    "        out._backward = _backward\n",
    "\n",
    "        return out\n",
    "    \n",
    "    # imp\n",
    "    def backward(self):\n",
    "        topo = []\n",
    "        visited=set()\n",
    "        def build_topo(v):\n",
    "            if v not in visited:\n",
    "                visited.add(v)\n",
    "                for child in v._prev:\n",
    "                    build_topo(child)\n",
    "                topo.append(v)\n",
    "        build_topo(self)\n",
    "        self.grad=1.0\n",
    "        for node in reversed(topo):\n",
    "            node._backward()\n"
   ]
  },
  {
   "cell_type": "code",
   "execution_count": 139,
   "metadata": {},
   "outputs": [
    {
     "data": {
      "text/plain": [
       "(Value(data=4), {Value(data=-6), Value(data=10)}, '+')"
      ]
     },
     "execution_count": 139,
     "metadata": {},
     "output_type": "execute_result"
    }
   ],
   "source": [
    "a = Value(2, label='a')\n",
    "b = Value(-3, label='b')\n",
    "c = Value(10, label='c')\n",
    "e=a*b\n",
    "e.label='e'\n",
    "d = e+c\n",
    "d.label = 'd'\n",
    "f = Value(-2, label = 'f')\n",
    "L = d*f; L.label = 'L'\n",
    "d, d._prev, d._op"
   ]
  },
  {
   "cell_type": "code",
   "execution_count": 58,
   "metadata": {},
   "outputs": [],
   "source": [
    "from graphviz import Digraph\n",
    "\n",
    "def trace(root):\n",
    "    # build a set of all nodes and edges in a graph\n",
    "    nodes, edges = set(), set()\n",
    "    \n",
    "    def build(v):\n",
    "        if v not in nodes:\n",
    "            nodes.add(v)\n",
    "            for child in v._prev:\n",
    "                edges.add((child, v))\n",
    "                build(child)\n",
    "    \n",
    "    build(root)\n",
    "    return nodes, edges\n",
    "\n",
    "# this follows DOT syntax\n",
    "def draw_dot(root): \n",
    "    # direction: left -> right\n",
    "    dot = Digraph(format='svg', graph_attr={'rankdir': 'LR'})\n",
    "    nodes, edges = trace(root)\n",
    "    for n in nodes:\n",
    "        uid = str(id(n))\n",
    "        dot.node(name=uid, label = f\"{n.label} | data {n.data} | grad {n.grad}\", shape='record')\n",
    "        if n._op:\n",
    "            dot.node(name = uid+n._op, label = n._op)\n",
    "            dot.edge(uid+n._op, uid)\n",
    "    for n1,n2 in edges:\n",
    "        dot.edge(str(id(n1)), str(id(n2)) + n2._op)\n",
    "\n",
    "    return dot"
   ]
  },
  {
   "cell_type": "code",
   "execution_count": 141,
   "metadata": {},
   "outputs": [
    {
     "data": {
      "image/svg+xml": [
       "<?xml version=\"1.0\" encoding=\"UTF-8\" standalone=\"no\"?>\n",
       "<!DOCTYPE svg PUBLIC \"-//W3C//DTD SVG 1.1//EN\"\n",
       " \"http://www.w3.org/Graphics/SVG/1.1/DTD/svg11.dtd\">\n",
       "<!-- Generated by graphviz version 12.2.1 (20241206.2353)\n",
       " -->\n",
       "<!-- Pages: 1 -->\n",
       "<svg width=\"604pt\" height=\"270pt\"\n",
       " viewBox=\"0.00 0.00 603.75 269.50\" xmlns=\"http://www.w3.org/2000/svg\" xmlns:xlink=\"http://www.w3.org/1999/xlink\">\n",
       "<g id=\"graph0\" class=\"graph\" transform=\"scale(1 1) rotate(0) translate(4 265.5)\">\n",
       "<polygon fill=\"white\" stroke=\"none\" points=\"-4,4 -4,-265.5 599.75,-265.5 599.75,4 -4,4\"/>\n",
       "<!-- 4875199504 -->\n",
       "<g id=\"node1\" class=\"node\">\n",
       "<title>4875199504</title>\n",
       "<polygon fill=\"none\" stroke=\"black\" points=\"0,-187.5 0,-261 54,-261 54,-187.5 0,-187.5\"/>\n",
       "<text text-anchor=\"middle\" x=\"27\" y=\"-243.7\" font-family=\"Times,serif\" font-size=\"14.00\">b</text>\n",
       "<polyline fill=\"none\" stroke=\"black\" points=\"0,-236.5 54,-236.5\"/>\n",
       "<text text-anchor=\"middle\" x=\"27\" y=\"-219.2\" font-family=\"Times,serif\" font-size=\"14.00\">data &#45;3</text>\n",
       "<polyline fill=\"none\" stroke=\"black\" points=\"0,-212 54,-212\"/>\n",
       "<text text-anchor=\"middle\" x=\"27\" y=\"-194.7\" font-family=\"Times,serif\" font-size=\"14.00\">grad 0</text>\n",
       "</g>\n",
       "<!-- 4883681424* -->\n",
       "<g id=\"node4\" class=\"node\">\n",
       "<title>4883681424*</title>\n",
       "<ellipse fill=\"none\" stroke=\"black\" cx=\"117\" cy=\"-177.25\" rx=\"27\" ry=\"18\"/>\n",
       "<text text-anchor=\"middle\" x=\"117\" y=\"-172.2\" font-family=\"Times,serif\" font-size=\"14.00\">*</text>\n",
       "</g>\n",
       "<!-- 4875199504&#45;&gt;4883681424* -->\n",
       "<g id=\"edge9\" class=\"edge\">\n",
       "<title>4875199504&#45;&gt;4883681424*</title>\n",
       "<path fill=\"none\" stroke=\"black\" d=\"M54.4,-210.15C64.1,-204.97 75.16,-199.06 85.2,-193.7\"/>\n",
       "<polygon fill=\"black\" stroke=\"black\" points=\"86.7,-196.87 93.87,-189.07 83.4,-190.69 86.7,-196.87\"/>\n",
       "</g>\n",
       "<!-- 4883810896 -->\n",
       "<g id=\"node2\" class=\"node\">\n",
       "<title>4883810896</title>\n",
       "<polygon fill=\"none\" stroke=\"black\" points=\"180,-47.5 180,-121 235.75,-121 235.75,-47.5 180,-47.5\"/>\n",
       "<text text-anchor=\"middle\" x=\"207.88\" y=\"-103.7\" font-family=\"Times,serif\" font-size=\"14.00\">c</text>\n",
       "<polyline fill=\"none\" stroke=\"black\" points=\"180,-96.5 235.75,-96.5\"/>\n",
       "<text text-anchor=\"middle\" x=\"207.88\" y=\"-79.2\" font-family=\"Times,serif\" font-size=\"14.00\">data 10</text>\n",
       "<polyline fill=\"none\" stroke=\"black\" points=\"180,-72 235.75,-72\"/>\n",
       "<text text-anchor=\"middle\" x=\"207.88\" y=\"-54.7\" font-family=\"Times,serif\" font-size=\"14.00\">grad 0</text>\n",
       "</g>\n",
       "<!-- 4883794896+ -->\n",
       "<g id=\"node10\" class=\"node\">\n",
       "<title>4883794896+</title>\n",
       "<ellipse fill=\"none\" stroke=\"black\" cx=\"298.75\" cy=\"-130.25\" rx=\"27\" ry=\"18\"/>\n",
       "<text text-anchor=\"middle\" x=\"298.75\" y=\"-125.2\" font-family=\"Times,serif\" font-size=\"14.00\">+</text>\n",
       "</g>\n",
       "<!-- 4883810896&#45;&gt;4883794896+ -->\n",
       "<g id=\"edge4\" class=\"edge\">\n",
       "<title>4883810896&#45;&gt;4883794896+</title>\n",
       "<path fill=\"none\" stroke=\"black\" d=\"M236.02,-98.3C245.72,-103.32 256.72,-109.02 266.72,-114.19\"/>\n",
       "<polygon fill=\"black\" stroke=\"black\" points=\"264.85,-117.16 275.34,-118.65 268.07,-110.95 264.85,-117.16\"/>\n",
       "</g>\n",
       "<!-- 4883681424 -->\n",
       "<g id=\"node3\" class=\"node\">\n",
       "<title>4883681424</title>\n",
       "<polygon fill=\"none\" stroke=\"black\" points=\"180.88,-140.5 180.88,-214 234.88,-214 234.88,-140.5 180.88,-140.5\"/>\n",
       "<text text-anchor=\"middle\" x=\"207.88\" y=\"-196.7\" font-family=\"Times,serif\" font-size=\"14.00\">e</text>\n",
       "<polyline fill=\"none\" stroke=\"black\" points=\"180.88,-189.5 234.88,-189.5\"/>\n",
       "<text text-anchor=\"middle\" x=\"207.88\" y=\"-172.2\" font-family=\"Times,serif\" font-size=\"14.00\">data &#45;6</text>\n",
       "<polyline fill=\"none\" stroke=\"black\" points=\"180.88,-165 234.88,-165\"/>\n",
       "<text text-anchor=\"middle\" x=\"207.88\" y=\"-147.7\" font-family=\"Times,serif\" font-size=\"14.00\">grad 0</text>\n",
       "</g>\n",
       "<!-- 4883681424&#45;&gt;4883794896+ -->\n",
       "<g id=\"edge5\" class=\"edge\">\n",
       "<title>4883681424&#45;&gt;4883794896+</title>\n",
       "<path fill=\"none\" stroke=\"black\" d=\"M235.06,-163.4C245.04,-158.12 256.52,-152.06 266.9,-146.57\"/>\n",
       "<polygon fill=\"black\" stroke=\"black\" points=\"268.27,-149.8 275.48,-142.03 265,-143.61 268.27,-149.8\"/>\n",
       "</g>\n",
       "<!-- 4883681424*&#45;&gt;4883681424 -->\n",
       "<g id=\"edge1\" class=\"edge\">\n",
       "<title>4883681424*&#45;&gt;4883681424</title>\n",
       "<path fill=\"none\" stroke=\"black\" d=\"M144.18,-177.25C151.98,-177.25 160.68,-177.25 169.06,-177.25\"/>\n",
       "<polygon fill=\"black\" stroke=\"black\" points=\"169.06,-180.75 179.06,-177.25 169.06,-173.75 169.06,-180.75\"/>\n",
       "</g>\n",
       "<!-- 4883688336 -->\n",
       "<g id=\"node5\" class=\"node\">\n",
       "<title>4883688336</title>\n",
       "<polygon fill=\"none\" stroke=\"black\" points=\"361.75,-0.5 361.75,-74 415.75,-74 415.75,-0.5 361.75,-0.5\"/>\n",
       "<text text-anchor=\"middle\" x=\"388.75\" y=\"-56.7\" font-family=\"Times,serif\" font-size=\"14.00\">f</text>\n",
       "<polyline fill=\"none\" stroke=\"black\" points=\"361.75,-49.5 415.75,-49.5\"/>\n",
       "<text text-anchor=\"middle\" x=\"388.75\" y=\"-32.2\" font-family=\"Times,serif\" font-size=\"14.00\">data &#45;2</text>\n",
       "<polyline fill=\"none\" stroke=\"black\" points=\"361.75,-25 415.75,-25\"/>\n",
       "<text text-anchor=\"middle\" x=\"388.75\" y=\"-7.7\" font-family=\"Times,serif\" font-size=\"14.00\">grad 0</text>\n",
       "</g>\n",
       "<!-- 4883684240* -->\n",
       "<g id=\"node8\" class=\"node\">\n",
       "<title>4883684240*</title>\n",
       "<ellipse fill=\"none\" stroke=\"black\" cx=\"478.75\" cy=\"-83.25\" rx=\"27\" ry=\"18\"/>\n",
       "<text text-anchor=\"middle\" x=\"478.75\" y=\"-78.2\" font-family=\"Times,serif\" font-size=\"14.00\">*</text>\n",
       "</g>\n",
       "<!-- 4883688336&#45;&gt;4883684240* -->\n",
       "<g id=\"edge7\" class=\"edge\">\n",
       "<title>4883688336&#45;&gt;4883684240*</title>\n",
       "<path fill=\"none\" stroke=\"black\" d=\"M416.15,-51.05C425.77,-56.08 436.73,-61.81 446.72,-67.03\"/>\n",
       "<polygon fill=\"black\" stroke=\"black\" points=\"444.85,-70 455.33,-71.53 448.09,-63.8 444.85,-70\"/>\n",
       "</g>\n",
       "<!-- 4875611984 -->\n",
       "<g id=\"node6\" class=\"node\">\n",
       "<title>4875611984</title>\n",
       "<polygon fill=\"none\" stroke=\"black\" points=\"0,-94.5 0,-168 54,-168 54,-94.5 0,-94.5\"/>\n",
       "<text text-anchor=\"middle\" x=\"27\" y=\"-150.7\" font-family=\"Times,serif\" font-size=\"14.00\">a</text>\n",
       "<polyline fill=\"none\" stroke=\"black\" points=\"0,-143.5 54,-143.5\"/>\n",
       "<text text-anchor=\"middle\" x=\"27\" y=\"-126.2\" font-family=\"Times,serif\" font-size=\"14.00\">data 2</text>\n",
       "<polyline fill=\"none\" stroke=\"black\" points=\"0,-119 54,-119\"/>\n",
       "<text text-anchor=\"middle\" x=\"27\" y=\"-101.7\" font-family=\"Times,serif\" font-size=\"14.00\">grad 0</text>\n",
       "</g>\n",
       "<!-- 4875611984&#45;&gt;4883681424* -->\n",
       "<g id=\"edge6\" class=\"edge\">\n",
       "<title>4875611984&#45;&gt;4883681424*</title>\n",
       "<path fill=\"none\" stroke=\"black\" d=\"M54.4,-145.05C64.02,-150.08 74.98,-155.81 84.97,-161.03\"/>\n",
       "<polygon fill=\"black\" stroke=\"black\" points=\"83.1,-164 93.58,-165.53 86.34,-157.8 83.1,-164\"/>\n",
       "</g>\n",
       "<!-- 4883684240 -->\n",
       "<g id=\"node7\" class=\"node\">\n",
       "<title>4883684240</title>\n",
       "<polygon fill=\"none\" stroke=\"black\" points=\"541.75,-46.5 541.75,-120 595.75,-120 595.75,-46.5 541.75,-46.5\"/>\n",
       "<text text-anchor=\"middle\" x=\"568.75\" y=\"-102.7\" font-family=\"Times,serif\" font-size=\"14.00\">L</text>\n",
       "<polyline fill=\"none\" stroke=\"black\" points=\"541.75,-95.5 595.75,-95.5\"/>\n",
       "<text text-anchor=\"middle\" x=\"568.75\" y=\"-78.2\" font-family=\"Times,serif\" font-size=\"14.00\">data &#45;8</text>\n",
       "<polyline fill=\"none\" stroke=\"black\" points=\"541.75,-71 595.75,-71\"/>\n",
       "<text text-anchor=\"middle\" x=\"568.75\" y=\"-53.7\" font-family=\"Times,serif\" font-size=\"14.00\">grad 0</text>\n",
       "</g>\n",
       "<!-- 4883684240*&#45;&gt;4883684240 -->\n",
       "<g id=\"edge2\" class=\"edge\">\n",
       "<title>4883684240*&#45;&gt;4883684240</title>\n",
       "<path fill=\"none\" stroke=\"black\" d=\"M506.15,-83.25C513.64,-83.25 521.93,-83.25 529.95,-83.25\"/>\n",
       "<polygon fill=\"black\" stroke=\"black\" points=\"529.85,-86.75 539.85,-83.25 529.85,-79.75 529.85,-86.75\"/>\n",
       "</g>\n",
       "<!-- 4883794896 -->\n",
       "<g id=\"node9\" class=\"node\">\n",
       "<title>4883794896</title>\n",
       "<polygon fill=\"none\" stroke=\"black\" points=\"361.75,-93.5 361.75,-167 415.75,-167 415.75,-93.5 361.75,-93.5\"/>\n",
       "<text text-anchor=\"middle\" x=\"388.75\" y=\"-149.7\" font-family=\"Times,serif\" font-size=\"14.00\">d</text>\n",
       "<polyline fill=\"none\" stroke=\"black\" points=\"361.75,-142.5 415.75,-142.5\"/>\n",
       "<text text-anchor=\"middle\" x=\"388.75\" y=\"-125.2\" font-family=\"Times,serif\" font-size=\"14.00\">data 4</text>\n",
       "<polyline fill=\"none\" stroke=\"black\" points=\"361.75,-118 415.75,-118\"/>\n",
       "<text text-anchor=\"middle\" x=\"388.75\" y=\"-100.7\" font-family=\"Times,serif\" font-size=\"14.00\">grad 0</text>\n",
       "</g>\n",
       "<!-- 4883794896&#45;&gt;4883684240* -->\n",
       "<g id=\"edge8\" class=\"edge\">\n",
       "<title>4883794896&#45;&gt;4883684240*</title>\n",
       "<path fill=\"none\" stroke=\"black\" d=\"M416.15,-116.15C425.85,-110.97 436.91,-105.06 446.95,-99.7\"/>\n",
       "<polygon fill=\"black\" stroke=\"black\" points=\"448.45,-102.87 455.62,-95.07 445.15,-96.69 448.45,-102.87\"/>\n",
       "</g>\n",
       "<!-- 4883794896+&#45;&gt;4883794896 -->\n",
       "<g id=\"edge3\" class=\"edge\">\n",
       "<title>4883794896+&#45;&gt;4883794896</title>\n",
       "<path fill=\"none\" stroke=\"black\" d=\"M326.15,-130.25C333.64,-130.25 341.93,-130.25 349.95,-130.25\"/>\n",
       "<polygon fill=\"black\" stroke=\"black\" points=\"349.85,-133.75 359.85,-130.25 349.85,-126.75 349.85,-133.75\"/>\n",
       "</g>\n",
       "</g>\n",
       "</svg>\n"
      ],
      "text/plain": [
       "<graphviz.graphs.Digraph at 0x12317c450>"
      ]
     },
     "execution_count": 141,
     "metadata": {},
     "output_type": "execute_result"
    }
   ],
   "source": [
    "draw_dot(L)"
   ]
  },
  {
   "cell_type": "markdown",
   "metadata": {},
   "source": [
    "Derivative at any point of the output w.r.t. the point (grad) tells us how changes in this value affects the output."
   ]
  },
  {
   "cell_type": "markdown",
   "metadata": {},
   "source": [
    "the lecture goes into the details of chain rule and backprop here.\\\n",
    "in short, + propagates the gradient as it is, * varies the gradient proportional to its coefficient"
   ]
  },
  {
   "cell_type": "code",
   "execution_count": 172,
   "metadata": {},
   "outputs": [],
   "source": [
    "# tanh squashes the output\n",
    "\n",
    "x1 = Value(2.0, label = 'x1')\n",
    "x2 = Value(0.0, label = 'x2')\n",
    "\n",
    "w1 = Value(-3.0, label='w1')\n",
    "w2 = Value(1.0, label='w2')\n",
    "b = Value(6.8813735870195432, label='b')\n",
    "\n",
    "x1w1 = x1*w1; x1w1.label='x1w1'\n",
    "x2w2 = x2*w2; x2w2.label='x2w2'\n",
    "x1w1x2w2 = x1w1 + x2w2; x1w1x2w2.label='x1*w1 + x2*w2'\n",
    "n = x1w1x2w2 + b; n.label = 'n'\n",
    "o = n.tanh(); o.label='o'"
   ]
  },
  {
   "cell_type": "code",
   "execution_count": 173,
   "metadata": {},
   "outputs": [],
   "source": [
    "# IMP\n",
    "o.grad = 1.0\n"
   ]
  },
  {
   "cell_type": "code",
   "execution_count": 177,
   "metadata": {},
   "outputs": [
    {
     "data": {
      "image/svg+xml": [
       "<?xml version=\"1.0\" encoding=\"UTF-8\" standalone=\"no\"?>\n",
       "<!DOCTYPE svg PUBLIC \"-//W3C//DTD SVG 1.1//EN\"\n",
       " \"http://www.w3.org/Graphics/SVG/1.1/DTD/svg11.dtd\">\n",
       "<!-- Generated by graphviz version 12.2.1 (20241206.2353)\n",
       " -->\n",
       "<!-- Pages: 1 -->\n",
       "<svg width=\"1326pt\" height=\"362pt\"\n",
       " viewBox=\"0.00 0.00 1326.25 361.50\" xmlns=\"http://www.w3.org/2000/svg\" xmlns:xlink=\"http://www.w3.org/1999/xlink\">\n",
       "<g id=\"graph0\" class=\"graph\" transform=\"scale(1 1) rotate(0) translate(4 357.5)\">\n",
       "<polygon fill=\"white\" stroke=\"none\" points=\"-4,4 -4,-357.5 1322.25,-357.5 1322.25,4 -4,4\"/>\n",
       "<!-- 4874623056 -->\n",
       "<g id=\"node1\" class=\"node\">\n",
       "<title>4874623056</title>\n",
       "<polygon fill=\"none\" stroke=\"black\" points=\"2.25,-279.5 2.25,-353 164.5,-353 164.5,-279.5 2.25,-279.5\"/>\n",
       "<text text-anchor=\"middle\" x=\"83.38\" y=\"-335.7\" font-family=\"Times,serif\" font-size=\"14.00\">w1</text>\n",
       "<polyline fill=\"none\" stroke=\"black\" points=\"2.25,-328.5 164.5,-328.5\"/>\n",
       "<text text-anchor=\"middle\" x=\"83.38\" y=\"-311.2\" font-family=\"Times,serif\" font-size=\"14.00\">data &#45;3.0</text>\n",
       "<polyline fill=\"none\" stroke=\"black\" points=\"2.25,-304 164.5,-304\"/>\n",
       "<text text-anchor=\"middle\" x=\"83.38\" y=\"-286.7\" font-family=\"Times,serif\" font-size=\"14.00\">grad 0.9999999999999998</text>\n",
       "</g>\n",
       "<!-- 4874629776* -->\n",
       "<g id=\"node5\" class=\"node\">\n",
       "<title>4874629776*</title>\n",
       "<ellipse fill=\"none\" stroke=\"black\" cx=\"229.75\" cy=\"-223.25\" rx=\"27\" ry=\"18\"/>\n",
       "<text text-anchor=\"middle\" x=\"229.75\" y=\"-218.2\" font-family=\"Times,serif\" font-size=\"14.00\">*</text>\n",
       "</g>\n",
       "<!-- 4874623056&#45;&gt;4874629776* -->\n",
       "<g id=\"edge11\" class=\"edge\">\n",
       "<title>4874623056&#45;&gt;4874629776*</title>\n",
       "<path fill=\"none\" stroke=\"black\" d=\"M150.89,-279.22C156.3,-275.93 161.65,-272.58 166.75,-269.25 178.82,-261.37 191.68,-252 202.55,-243.77\"/>\n",
       "<polygon fill=\"black\" stroke=\"black\" points=\"204.5,-246.69 210.31,-237.83 200.24,-241.13 204.5,-246.69\"/>\n",
       "</g>\n",
       "<!-- 4874622096 -->\n",
       "<g id=\"node2\" class=\"node\">\n",
       "<title>4874622096</title>\n",
       "<polygon fill=\"none\" stroke=\"black\" points=\"292.75,-93.5 292.75,-167 455,-167 455,-93.5 292.75,-93.5\"/>\n",
       "<text text-anchor=\"middle\" x=\"373.88\" y=\"-149.7\" font-family=\"Times,serif\" font-size=\"14.00\">x2w2</text>\n",
       "<polyline fill=\"none\" stroke=\"black\" points=\"292.75,-142.5 455,-142.5\"/>\n",
       "<text text-anchor=\"middle\" x=\"373.88\" y=\"-125.2\" font-family=\"Times,serif\" font-size=\"14.00\">data 0.0</text>\n",
       "<polyline fill=\"none\" stroke=\"black\" points=\"292.75,-118 455,-118\"/>\n",
       "<text text-anchor=\"middle\" x=\"373.88\" y=\"-100.7\" font-family=\"Times,serif\" font-size=\"14.00\">grad 0.4999999999999999</text>\n",
       "</g>\n",
       "<!-- 4874618832+ -->\n",
       "<g id=\"node14\" class=\"node\">\n",
       "<title>4874618832+</title>\n",
       "<ellipse fill=\"none\" stroke=\"black\" cx=\"518\" cy=\"-176.25\" rx=\"27\" ry=\"18\"/>\n",
       "<text text-anchor=\"middle\" x=\"518\" y=\"-171.2\" font-family=\"Times,serif\" font-size=\"14.00\">+</text>\n",
       "</g>\n",
       "<!-- 4874622096&#45;&gt;4874618832+ -->\n",
       "<g id=\"edge7\" class=\"edge\">\n",
       "<title>4874622096&#45;&gt;4874618832+</title>\n",
       "<path fill=\"none\" stroke=\"black\" d=\"M455.49,-156.34C464.96,-159.41 474.21,-162.4 482.53,-165.09\"/>\n",
       "<polygon fill=\"black\" stroke=\"black\" points=\"481.22,-168.35 491.81,-168.1 483.37,-161.69 481.22,-168.35\"/>\n",
       "</g>\n",
       "<!-- 4874622096* -->\n",
       "<g id=\"node3\" class=\"node\">\n",
       "<title>4874622096*</title>\n",
       "<ellipse fill=\"none\" stroke=\"black\" cx=\"229.75\" cy=\"-130.25\" rx=\"27\" ry=\"18\"/>\n",
       "<text text-anchor=\"middle\" x=\"229.75\" y=\"-125.2\" font-family=\"Times,serif\" font-size=\"14.00\">*</text>\n",
       "</g>\n",
       "<!-- 4874622096*&#45;&gt;4874622096 -->\n",
       "<g id=\"edge1\" class=\"edge\">\n",
       "<title>4874622096*&#45;&gt;4874622096</title>\n",
       "<path fill=\"none\" stroke=\"black\" d=\"M257.15,-130.25C264.24,-130.25 272.32,-130.25 280.85,-130.25\"/>\n",
       "<polygon fill=\"black\" stroke=\"black\" points=\"280.76,-133.75 290.76,-130.25 280.76,-126.75 280.76,-133.75\"/>\n",
       "</g>\n",
       "<!-- 4874629776 -->\n",
       "<g id=\"node4\" class=\"node\">\n",
       "<title>4874629776</title>\n",
       "<polygon fill=\"none\" stroke=\"black\" points=\"292.75,-186.5 292.75,-260 455,-260 455,-186.5 292.75,-186.5\"/>\n",
       "<text text-anchor=\"middle\" x=\"373.88\" y=\"-242.7\" font-family=\"Times,serif\" font-size=\"14.00\">x1w1</text>\n",
       "<polyline fill=\"none\" stroke=\"black\" points=\"292.75,-235.5 455,-235.5\"/>\n",
       "<text text-anchor=\"middle\" x=\"373.88\" y=\"-218.2\" font-family=\"Times,serif\" font-size=\"14.00\">data &#45;6.0</text>\n",
       "<polyline fill=\"none\" stroke=\"black\" points=\"292.75,-211 455,-211\"/>\n",
       "<text text-anchor=\"middle\" x=\"373.88\" y=\"-193.7\" font-family=\"Times,serif\" font-size=\"14.00\">grad 0.4999999999999999</text>\n",
       "</g>\n",
       "<!-- 4874629776&#45;&gt;4874618832+ -->\n",
       "<g id=\"edge14\" class=\"edge\">\n",
       "<title>4874629776&#45;&gt;4874618832+</title>\n",
       "<path fill=\"none\" stroke=\"black\" d=\"M455.49,-196.59C464.96,-193.46 474.21,-190.4 482.53,-187.65\"/>\n",
       "<polygon fill=\"black\" stroke=\"black\" points=\"483.42,-191.04 491.81,-184.58 481.22,-184.4 483.42,-191.04\"/>\n",
       "</g>\n",
       "<!-- 4874629776*&#45;&gt;4874629776 -->\n",
       "<g id=\"edge2\" class=\"edge\">\n",
       "<title>4874629776*&#45;&gt;4874629776</title>\n",
       "<path fill=\"none\" stroke=\"black\" d=\"M257.15,-223.25C264.24,-223.25 272.32,-223.25 280.85,-223.25\"/>\n",
       "<polygon fill=\"black\" stroke=\"black\" points=\"280.76,-226.75 290.76,-223.25 280.76,-219.75 280.76,-226.75\"/>\n",
       "</g>\n",
       "<!-- 4874623696 -->\n",
       "<g id=\"node6\" class=\"node\">\n",
       "<title>4874623696</title>\n",
       "<polygon fill=\"none\" stroke=\"black\" points=\"52.88,-93.5 52.88,-167 113.88,-167 113.88,-93.5 52.88,-93.5\"/>\n",
       "<text text-anchor=\"middle\" x=\"83.38\" y=\"-149.7\" font-family=\"Times,serif\" font-size=\"14.00\">w2</text>\n",
       "<polyline fill=\"none\" stroke=\"black\" points=\"52.88,-142.5 113.88,-142.5\"/>\n",
       "<text text-anchor=\"middle\" x=\"83.38\" y=\"-125.2\" font-family=\"Times,serif\" font-size=\"14.00\">data 1.0</text>\n",
       "<polyline fill=\"none\" stroke=\"black\" points=\"52.88,-118 113.88,-118\"/>\n",
       "<text text-anchor=\"middle\" x=\"83.38\" y=\"-100.7\" font-family=\"Times,serif\" font-size=\"14.00\">grad 0.0</text>\n",
       "</g>\n",
       "<!-- 4874623696&#45;&gt;4874622096* -->\n",
       "<g id=\"edge10\" class=\"edge\">\n",
       "<title>4874623696&#45;&gt;4874622096*</title>\n",
       "<path fill=\"none\" stroke=\"black\" d=\"M114.29,-130.25C136.48,-130.25 166.89,-130.25 190.79,-130.25\"/>\n",
       "<polygon fill=\"black\" stroke=\"black\" points=\"190.76,-133.75 200.76,-130.25 190.76,-126.75 190.76,-133.75\"/>\n",
       "</g>\n",
       "<!-- 4874632400 -->\n",
       "<g id=\"node7\" class=\"node\">\n",
       "<title>4874632400</title>\n",
       "<polygon fill=\"none\" stroke=\"black\" points=\"0,-186.5 0,-260 166.75,-260 166.75,-186.5 0,-186.5\"/>\n",
       "<text text-anchor=\"middle\" x=\"83.38\" y=\"-242.7\" font-family=\"Times,serif\" font-size=\"14.00\">x1</text>\n",
       "<polyline fill=\"none\" stroke=\"black\" points=\"0,-235.5 166.75,-235.5\"/>\n",
       "<text text-anchor=\"middle\" x=\"83.38\" y=\"-218.2\" font-family=\"Times,serif\" font-size=\"14.00\">data 2.0</text>\n",
       "<polyline fill=\"none\" stroke=\"black\" points=\"0,-211 166.75,-211\"/>\n",
       "<text text-anchor=\"middle\" x=\"83.38\" y=\"-193.7\" font-family=\"Times,serif\" font-size=\"14.00\">grad &#45;1.4999999999999996</text>\n",
       "</g>\n",
       "<!-- 4874632400&#45;&gt;4874629776* -->\n",
       "<g id=\"edge6\" class=\"edge\">\n",
       "<title>4874632400&#45;&gt;4874629776*</title>\n",
       "<path fill=\"none\" stroke=\"black\" d=\"M167.1,-223.25C175.36,-223.25 183.42,-223.25 190.85,-223.25\"/>\n",
       "<polygon fill=\"black\" stroke=\"black\" points=\"190.8,-226.75 200.8,-223.25 190.8,-219.75 190.8,-226.75\"/>\n",
       "</g>\n",
       "<!-- 4874629968 -->\n",
       "<g id=\"node8\" class=\"node\">\n",
       "<title>4874629968</title>\n",
       "<polygon fill=\"none\" stroke=\"black\" points=\"581,-46.5 581,-120 743.25,-120 743.25,-46.5 581,-46.5\"/>\n",
       "<text text-anchor=\"middle\" x=\"662.12\" y=\"-102.7\" font-family=\"Times,serif\" font-size=\"14.00\">b</text>\n",
       "<polyline fill=\"none\" stroke=\"black\" points=\"581,-95.5 743.25,-95.5\"/>\n",
       "<text text-anchor=\"middle\" x=\"662.12\" y=\"-78.2\" font-family=\"Times,serif\" font-size=\"14.00\">data 6.881373587019543</text>\n",
       "<polyline fill=\"none\" stroke=\"black\" points=\"581,-71 743.25,-71\"/>\n",
       "<text text-anchor=\"middle\" x=\"662.12\" y=\"-53.7\" font-family=\"Times,serif\" font-size=\"14.00\">grad 0.4999999999999999</text>\n",
       "</g>\n",
       "<!-- 4874624912+ -->\n",
       "<g id=\"node12\" class=\"node\">\n",
       "<title>4874624912+</title>\n",
       "<ellipse fill=\"none\" stroke=\"black\" cx=\"806.25\" cy=\"-129.25\" rx=\"27\" ry=\"18\"/>\n",
       "<text text-anchor=\"middle\" x=\"806.25\" y=\"-124.2\" font-family=\"Times,serif\" font-size=\"14.00\">+</text>\n",
       "</g>\n",
       "<!-- 4874629968&#45;&gt;4874624912+ -->\n",
       "<g id=\"edge13\" class=\"edge\">\n",
       "<title>4874629968&#45;&gt;4874624912+</title>\n",
       "<path fill=\"none\" stroke=\"black\" d=\"M743.74,-109.34C753.21,-112.41 762.46,-115.4 770.78,-118.09\"/>\n",
       "<polygon fill=\"black\" stroke=\"black\" points=\"769.47,-121.35 780.06,-121.1 771.62,-114.69 769.47,-121.35\"/>\n",
       "</g>\n",
       "<!-- 4874719056 -->\n",
       "<g id=\"node9\" class=\"node\">\n",
       "<title>4874719056</title>\n",
       "<polygon fill=\"none\" stroke=\"black\" points=\"1157.5,-92.5 1157.5,-166 1318.25,-166 1318.25,-92.5 1157.5,-92.5\"/>\n",
       "<text text-anchor=\"middle\" x=\"1237.88\" y=\"-148.7\" font-family=\"Times,serif\" font-size=\"14.00\">o</text>\n",
       "<polyline fill=\"none\" stroke=\"black\" points=\"1157.5,-141.5 1318.25,-141.5\"/>\n",
       "<text text-anchor=\"middle\" x=\"1237.88\" y=\"-124.2\" font-family=\"Times,serif\" font-size=\"14.00\">data 0.7071067811865476</text>\n",
       "<polyline fill=\"none\" stroke=\"black\" points=\"1157.5,-117 1318.25,-117\"/>\n",
       "<text text-anchor=\"middle\" x=\"1237.88\" y=\"-99.7\" font-family=\"Times,serif\" font-size=\"14.00\">grad 1.0</text>\n",
       "</g>\n",
       "<!-- 4874719056tanh -->\n",
       "<g id=\"node10\" class=\"node\">\n",
       "<title>4874719056tanh</title>\n",
       "<ellipse fill=\"none\" stroke=\"black\" cx=\"1094.5\" cy=\"-129.25\" rx=\"27\" ry=\"18\"/>\n",
       "<text text-anchor=\"middle\" x=\"1094.5\" y=\"-124.2\" font-family=\"Times,serif\" font-size=\"14.00\">tanh</text>\n",
       "</g>\n",
       "<!-- 4874719056tanh&#45;&gt;4874719056 -->\n",
       "<g id=\"edge3\" class=\"edge\">\n",
       "<title>4874719056tanh&#45;&gt;4874719056</title>\n",
       "<path fill=\"none\" stroke=\"black\" d=\"M1121.76,-129.25C1129,-129.25 1137.29,-129.25 1146.03,-129.25\"/>\n",
       "<polygon fill=\"black\" stroke=\"black\" points=\"1145.78,-132.75 1155.78,-129.25 1145.78,-125.75 1145.78,-132.75\"/>\n",
       "</g>\n",
       "<!-- 4874624912 -->\n",
       "<g id=\"node11\" class=\"node\">\n",
       "<title>4874624912</title>\n",
       "<polygon fill=\"none\" stroke=\"black\" points=\"869.25,-92.5 869.25,-166 1031.5,-166 1031.5,-92.5 869.25,-92.5\"/>\n",
       "<text text-anchor=\"middle\" x=\"950.38\" y=\"-148.7\" font-family=\"Times,serif\" font-size=\"14.00\">n</text>\n",
       "<polyline fill=\"none\" stroke=\"black\" points=\"869.25,-141.5 1031.5,-141.5\"/>\n",
       "<text text-anchor=\"middle\" x=\"950.38\" y=\"-124.2\" font-family=\"Times,serif\" font-size=\"14.00\">data 0.8813735870195432</text>\n",
       "<polyline fill=\"none\" stroke=\"black\" points=\"869.25,-117 1031.5,-117\"/>\n",
       "<text text-anchor=\"middle\" x=\"950.38\" y=\"-99.7\" font-family=\"Times,serif\" font-size=\"14.00\">grad 0.4999999999999999</text>\n",
       "</g>\n",
       "<!-- 4874624912&#45;&gt;4874719056tanh -->\n",
       "<g id=\"edge8\" class=\"edge\">\n",
       "<title>4874624912&#45;&gt;4874719056tanh</title>\n",
       "<path fill=\"none\" stroke=\"black\" d=\"M1031.99,-129.25C1040.19,-129.25 1048.23,-129.25 1055.64,-129.25\"/>\n",
       "<polygon fill=\"black\" stroke=\"black\" points=\"1055.56,-132.75 1065.56,-129.25 1055.56,-125.75 1055.56,-132.75\"/>\n",
       "</g>\n",
       "<!-- 4874624912+&#45;&gt;4874624912 -->\n",
       "<g id=\"edge4\" class=\"edge\">\n",
       "<title>4874624912+&#45;&gt;4874624912</title>\n",
       "<path fill=\"none\" stroke=\"black\" d=\"M833.65,-129.25C840.74,-129.25 848.82,-129.25 857.35,-129.25\"/>\n",
       "<polygon fill=\"black\" stroke=\"black\" points=\"857.26,-132.75 867.26,-129.25 857.26,-125.75 857.26,-132.75\"/>\n",
       "</g>\n",
       "<!-- 4874618832 -->\n",
       "<g id=\"node13\" class=\"node\">\n",
       "<title>4874618832</title>\n",
       "<polygon fill=\"none\" stroke=\"black\" points=\"581,-139.5 581,-213 743.25,-213 743.25,-139.5 581,-139.5\"/>\n",
       "<text text-anchor=\"middle\" x=\"662.12\" y=\"-195.7\" font-family=\"Times,serif\" font-size=\"14.00\">x1*w1 + x2*w2</text>\n",
       "<polyline fill=\"none\" stroke=\"black\" points=\"581,-188.5 743.25,-188.5\"/>\n",
       "<text text-anchor=\"middle\" x=\"662.12\" y=\"-171.2\" font-family=\"Times,serif\" font-size=\"14.00\">data &#45;6.0</text>\n",
       "<polyline fill=\"none\" stroke=\"black\" points=\"581,-164 743.25,-164\"/>\n",
       "<text text-anchor=\"middle\" x=\"662.12\" y=\"-146.7\" font-family=\"Times,serif\" font-size=\"14.00\">grad 0.4999999999999999</text>\n",
       "</g>\n",
       "<!-- 4874618832&#45;&gt;4874624912+ -->\n",
       "<g id=\"edge12\" class=\"edge\">\n",
       "<title>4874618832&#45;&gt;4874624912+</title>\n",
       "<path fill=\"none\" stroke=\"black\" d=\"M743.74,-149.59C753.21,-146.46 762.46,-143.4 770.78,-140.65\"/>\n",
       "<polygon fill=\"black\" stroke=\"black\" points=\"771.67,-144.04 780.06,-137.58 769.47,-137.4 771.67,-144.04\"/>\n",
       "</g>\n",
       "<!-- 4874618832+&#45;&gt;4874618832 -->\n",
       "<g id=\"edge5\" class=\"edge\">\n",
       "<title>4874618832+&#45;&gt;4874618832</title>\n",
       "<path fill=\"none\" stroke=\"black\" d=\"M545.4,-176.25C552.49,-176.25 560.57,-176.25 569.1,-176.25\"/>\n",
       "<polygon fill=\"black\" stroke=\"black\" points=\"569.01,-179.75 579.01,-176.25 569.01,-172.75 569.01,-179.75\"/>\n",
       "</g>\n",
       "<!-- 4874836432 -->\n",
       "<g id=\"node15\" class=\"node\">\n",
       "<title>4874836432</title>\n",
       "<polygon fill=\"none\" stroke=\"black\" points=\"2.25,-0.5 2.25,-74 164.5,-74 164.5,-0.5 2.25,-0.5\"/>\n",
       "<text text-anchor=\"middle\" x=\"83.38\" y=\"-56.7\" font-family=\"Times,serif\" font-size=\"14.00\">x2</text>\n",
       "<polyline fill=\"none\" stroke=\"black\" points=\"2.25,-49.5 164.5,-49.5\"/>\n",
       "<text text-anchor=\"middle\" x=\"83.38\" y=\"-32.2\" font-family=\"Times,serif\" font-size=\"14.00\">data 0.0</text>\n",
       "<polyline fill=\"none\" stroke=\"black\" points=\"2.25,-25 164.5,-25\"/>\n",
       "<text text-anchor=\"middle\" x=\"83.38\" y=\"-7.7\" font-family=\"Times,serif\" font-size=\"14.00\">grad 0.4999999999999999</text>\n",
       "</g>\n",
       "<!-- 4874836432&#45;&gt;4874622096* -->\n",
       "<g id=\"edge9\" class=\"edge\">\n",
       "<title>4874836432&#45;&gt;4874622096*</title>\n",
       "<path fill=\"none\" stroke=\"black\" d=\"M150.89,-74.28C156.3,-77.57 161.65,-80.92 166.75,-84.25 178.82,-92.13 191.68,-101.5 202.55,-109.73\"/>\n",
       "<polygon fill=\"black\" stroke=\"black\" points=\"200.24,-112.37 210.31,-115.67 204.5,-106.81 200.24,-112.37\"/>\n",
       "</g>\n",
       "</g>\n",
       "</svg>\n"
      ],
      "text/plain": [
       "<graphviz.graphs.Digraph at 0x12318ef10>"
      ]
     },
     "execution_count": 177,
     "metadata": {},
     "output_type": "execute_result"
    }
   ],
   "source": [
    "draw_dot(o)"
   ]
  },
  {
   "cell_type": "code",
   "execution_count": 77,
   "metadata": {},
   "outputs": [],
   "source": [
    "o._backward()"
   ]
  },
  {
   "cell_type": "code",
   "execution_count": 79,
   "metadata": {},
   "outputs": [],
   "source": [
    "n._backward()"
   ]
  },
  {
   "cell_type": "code",
   "execution_count": 81,
   "metadata": {},
   "outputs": [],
   "source": [
    "b._backward()"
   ]
  },
  {
   "cell_type": "code",
   "execution_count": 82,
   "metadata": {},
   "outputs": [],
   "source": [
    "x1w1x2w2._backward()"
   ]
  },
  {
   "cell_type": "code",
   "execution_count": 84,
   "metadata": {},
   "outputs": [],
   "source": [
    "x2w2._backward()"
   ]
  },
  {
   "cell_type": "code",
   "execution_count": 85,
   "metadata": {},
   "outputs": [],
   "source": [
    "x1w1._backward()"
   ]
  },
  {
   "cell_type": "code",
   "execution_count": 175,
   "metadata": {},
   "outputs": [
    {
     "data": {
      "text/plain": [
       "[Value(data=6.881373587019543),\n",
       " Value(data=0.0),\n",
       " Value(data=1.0),\n",
       " Value(data=0.0),\n",
       " Value(data=2.0),\n",
       " Value(data=-3.0),\n",
       " Value(data=-6.0),\n",
       " Value(data=-6.0),\n",
       " Value(data=0.8813735870195432),\n",
       " Value(data=0.7071067811865476)]"
      ]
     },
     "execution_count": 175,
     "metadata": {},
     "output_type": "execute_result"
    }
   ],
   "source": [
    "# topological sort implementation\n",
    "topo = []\n",
    "visited = set()\n",
    "def build_topo(v):\n",
    "    if v not in visited:\n",
    "        visited.add(v)\n",
    "        for child in v._prev:\n",
    "            build_topo(child)\n",
    "        topo.append(v)\n",
    "build_topo(o)\n",
    "topo"
   ]
  },
  {
   "cell_type": "code",
   "execution_count": 176,
   "metadata": {},
   "outputs": [],
   "source": [
    "for node in reversed(topo):\n",
    "    node._backward()"
   ]
  }
 ],
 "metadata": {
  "kernelspec": {
   "display_name": ".venv",
   "language": "python",
   "name": "python3"
  },
  "language_info": {
   "codemirror_mode": {
    "name": "ipython",
    "version": 3
   },
   "file_extension": ".py",
   "mimetype": "text/x-python",
   "name": "python",
   "nbconvert_exporter": "python",
   "pygments_lexer": "ipython3",
   "version": "3.11.6"
  }
 },
 "nbformat": 4,
 "nbformat_minor": 2
}
